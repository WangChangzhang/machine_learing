{
 "cells": [
  {
   "cell_type": "code",
   "execution_count": 29,
   "metadata": {},
   "outputs": [],
   "source": [
    "import pandas as pd\n",
    "import numpy as np"
   ]
  },
  {
   "cell_type": "code",
   "execution_count": 48,
   "metadata": {},
   "outputs": [
    {
     "name": "stderr",
     "output_type": "stream",
     "text": [
      "d:\\anaconda3\\lib\\site-packages\\IPython\\core\\interactiveshell.py:2785: DtypeWarning: Columns (3) have mixed types. Specify dtype option on import or set low_memory=False.\n",
      "  interactivity=interactivity, compiler=compiler, result=result)\n"
     ]
    }
   ],
   "source": [
    "data = pd.read_csv(\"data/ad.data\",header=None)\n",
    "data.replace('?', -1,inplace=True)\n",
    "data.replace('  ?', -1,inplace=True)\n",
    "data.replace('   ?', -1,inplace=True)\n",
    "data.replace('    ?', -1,inplace=True)\n",
    "data.replace('     ?', -1,inplace=True)"
   ]
  },
  {
   "cell_type": "code",
   "execution_count": 49,
   "metadata": {
    "scrolled": true
   },
   "outputs": [
    {
     "data": {
      "text/plain": [
       "<bound method NDFrame.head of       0     1       2    3     4     5     6     7     8     9     ...   1549  \\\n",
       "0      125   125     1.0    1     0     0     0     0     0     0  ...      0   \n",
       "1       57   468  8.2105    1     0     0     0     0     0     0  ...      0   \n",
       "2       33   230  6.9696    1     0     0     0     0     0     0  ...      0   \n",
       "3       60   468     7.8    1     0     0     0     0     0     0  ...      0   \n",
       "4       60   468     7.8    1     0     0     0     0     0     0  ...      0   \n",
       "5       60   468     7.8    1     0     0     0     0     0     0  ...      0   \n",
       "6       59   460  7.7966    1     0     0     0     0     0     0  ...      0   \n",
       "7       60   234     3.9    1     0     0     0     0     0     0  ...      0   \n",
       "8       60   468     7.8    1     0     0     0     0     0     0  ...      0   \n",
       "9       60   468     7.8    1     0     0     0     0     0     0  ...      0   \n",
       "10      -1    -1      -1    1     0     0     0     0     0     0  ...      0   \n",
       "11      90    52  0.5777    1     0     0     0     0     0     0  ...      0   \n",
       "12      90    60  0.6666    1     0     0     0     0     0     0  ...      0   \n",
       "13      90    60  0.6666    1     0     0     0     0     0     0  ...      0   \n",
       "14      33   230  6.9696    1     0     0     0     0     0     0  ...      0   \n",
       "15      60   468     7.8    1     0     0     0     0     0     0  ...      0   \n",
       "16      60   468     7.8    0     0     0     0     0     0     0  ...      0   \n",
       "17     125   125     1.0    1     0     0     0     0     0     0  ...      0   \n",
       "18      60   468     7.8    1     0     0     0     0     0     0  ...      0   \n",
       "19      30   585    19.5    1     0     0     0     0     0     0  ...      0   \n",
       "20      90    60  0.6666    1     0     0     0     0     0     0  ...      0   \n",
       "21      90    60  0.6666    1     0     0     0     0     0     0  ...      0   \n",
       "22      90    60  0.6666    1     0     0     0     0     0     0  ...      0   \n",
       "23      90    60  0.6666    1     0     0     0     0     0     0  ...      0   \n",
       "24      -1    -1      -1    1     0     0     0     0     0     0  ...      0   \n",
       "25      90    52  0.5777    1     0     0     0     0     0     0  ...      0   \n",
       "26      90    60  0.6666    1     0     0     0     0     0     0  ...      0   \n",
       "27      60   468     7.8    1     0     0     0     0     0     0  ...      0   \n",
       "28      60   234     3.9    0     0     0     0     0     0     0  ...      0   \n",
       "29      60   234     3.9    0     0     0     0     0     0     0  ...      0   \n",
       "...    ...   ...     ...  ...   ...   ...   ...   ...   ...   ...  ...    ...   \n",
       "3249    -1    -1      -1    1     0     0     0     0     0     0  ...      0   \n",
       "3250    -1    -1      -1    1     0     0     0     0     0     0  ...      0   \n",
       "3251    16    16     1.0    1     0     0     0     0     0     0  ...      0   \n",
       "3252    24    75   3.125    1     0     0     0     0     0     0  ...      0   \n",
       "3253    -1    -1      -1    1     0     0     0     0     0     0  ...      0   \n",
       "3254    25   100     4.0    1     0     0     0     0     0     0  ...      0   \n",
       "3255    -1    -1      -1    1     0     0     0     0     0     0  ...      0   \n",
       "3256    55   175  3.1818    1     0     0     0     0     0     0  ...      0   \n",
       "3257    -1    -1      -1    1     0     0     0     0     0     0  ...      0   \n",
       "3258    -1    -1      -1    1     0     0     0     0     0     0  ...      0   \n",
       "3259    10   600    60.0    1     0     0     0     0     0     0  ...      0   \n",
       "3260    11    64  5.8181    1     0     0     0     0     0     0  ...      0   \n",
       "3261    -1    -1      -1    1     0     0     0     0     0     0  ...      0   \n",
       "3262   150   200  1.3333    1     0     0     0     0     0     0  ...      0   \n",
       "3263    16    16     1.0    1     0     0     0     0     0     0  ...      0   \n",
       "3264   134   184  1.3731    0     0     0     0     0     0     0  ...      0   \n",
       "3265    23    26  1.1304    1     0     0     0     0     0     0  ...      0   \n",
       "3266    40   130    3.25    1     0     0     0     0     0     0  ...      0   \n",
       "3267   158   192  1.2151    1     0     0     0     0     0     0  ...      0   \n",
       "3268    25   100     4.0    1     0     0     0     0     0     0  ...      0   \n",
       "3269    -1    -1      -1    1     0     0     0     0     0     0  ...      0   \n",
       "3270    -1    -1      -1    1     0     0     0     0     0     0  ...      0   \n",
       "3271    -1    -1      -1    1     0     0     0     0     0     0  ...      0   \n",
       "3272   106   110  1.0377    1     0     0     0     0     0     0  ...      0   \n",
       "3273    30    30     1.0    0     0     0     0     0     0     0  ...      0   \n",
       "3274   170    94  0.5529    0     0     0     0     0     0     0  ...      0   \n",
       "3275   101   140  1.3861    1     0     0     0     0     0     0  ...      0   \n",
       "3276    23   120  5.2173    1     0     0     0     0     0     0  ...      0   \n",
       "3277    -1    -1      -1    1     0     0     0     0     0     0  ...      0   \n",
       "3278    40    40     1.0    1     0     0     0     0     0     0  ...      0   \n",
       "\n",
       "      1550  1551  1552  1553  1554  1555  1556  1557  1558  \n",
       "0        0     0     0     0     0     0     0     0   1.0  \n",
       "1        0     0     0     0     0     0     0     0   1.0  \n",
       "2        0     0     0     0     0     0     0     0   1.0  \n",
       "3        0     0     0     0     0     0     0     0   1.0  \n",
       "4        0     0     0     0     0     0     0     0   1.0  \n",
       "5        0     0     0     0     0     0     0     0   1.0  \n",
       "6        0     0     0     0     0     0     0     0   1.0  \n",
       "7        0     0     0     0     0     0     0     0   1.0  \n",
       "8        0     0     0     0     0     0     0     0   1.0  \n",
       "9        0     0     0     0     0     0     0     0   1.0  \n",
       "10       0     0     0     0     0     0     0     0   1.0  \n",
       "11       0     0     0     0     0     0     0     0   1.0  \n",
       "12       0     0     0     0     0     0     0     0   1.0  \n",
       "13       0     0     0     0     0     0     0     0   1.0  \n",
       "14       0     0     0     0     0     0     0     0   1.0  \n",
       "15       0     0     0     0     1     1     0     0   1.0  \n",
       "16       0     0     0     0     1     1     0     0   1.0  \n",
       "17       0     0     0     0     0     0     0     0   1.0  \n",
       "18       0     0     0     0     1     1     1     0   1.0  \n",
       "19       0     0     0     0     0     0     0     0   1.0  \n",
       "20       0     0     0     0     0     0     0     0   1.0  \n",
       "21       0     0     0     0     0     0     0     0   1.0  \n",
       "22       0     0     0     0     0     0     0     0   1.0  \n",
       "23       0     0     0     0     0     0     0     0   1.0  \n",
       "24       0     0     0     0     0     0     0     0   1.0  \n",
       "25       0     0     0     0     0     0     0     0   1.0  \n",
       "26       0     0     0     0     0     0     0     0   1.0  \n",
       "27       0     0     0     0     0     0     0     0   1.0  \n",
       "28       0     0     0     0     0     0     0     0   1.0  \n",
       "29       0     0     0     0     0     0     0     0   1.0  \n",
       "...    ...   ...   ...   ...   ...   ...   ...   ...   ...  \n",
       "3249     0     0     0     0     0     0     0     0   0.0  \n",
       "3250     0     0     0     0     0     0     0     0   0.0  \n",
       "3251     0     0     0     0     0     0     0     0   0.0  \n",
       "3252     0     0     0     0     0     0     0     0   0.0  \n",
       "3253     0     0     0     0     0     0     0     0   0.0  \n",
       "3254     0     0     0     0     0     0     0     0   0.0  \n",
       "3255     0     0     0     0     0     0     0     0   0.0  \n",
       "3256     0     0     0     0     0     0     0     0   0.0  \n",
       "3257     0     0     0     0     0     0     0     0   0.0  \n",
       "3258     0     0     0     0     0     0     0     0   0.0  \n",
       "3259     0     0     0     0     0     0     0     0   0.0  \n",
       "3260     0     0     0     0     0     0     0     0   0.0  \n",
       "3261     0     0     0     0     0     0     0     0   0.0  \n",
       "3262     0     0     0     0     0     0     0     0   0.0  \n",
       "3263     0     0     0     0     0     0     0     0   0.0  \n",
       "3264     0     0     0     0     0     0     0     0   0.0  \n",
       "3265     0     0     0     0     0     0     0     0   0.0  \n",
       "3266     0     0     0     0     0     0     0     0   0.0  \n",
       "3267     0     0     0     0     0     0     0     0   0.0  \n",
       "3268     0     0     0     0     0     0     0     0   0.0  \n",
       "3269     0     0     0     0     0     0     0     0   0.0  \n",
       "3270     0     0     0     0     0     0     0     0   0.0  \n",
       "3271     0     0     0     0     0     0     0     0   0.0  \n",
       "3272     0     0     0     0     0     0     0     0   0.0  \n",
       "3273     0     0     0     0     0     0     0     0   0.0  \n",
       "3274     0     0     0     0     0     0     0     0   0.0  \n",
       "3275     0     0     0     0     0     0     0     0   0.0  \n",
       "3276     0     0     0     0     0     0     0     0   0.0  \n",
       "3277     0     0     0     0     0     0     0     0   0.0  \n",
       "3278     0     0     0     0     0     0     0     0   0.0  \n",
       "\n",
       "[3279 rows x 1559 columns]>"
      ]
     },
     "execution_count": 49,
     "metadata": {},
     "output_type": "execute_result"
    }
   ],
   "source": [
    "ad_indeces = data[data.columns[-1]] == 'ad.'\n",
    "non_ad_indeces = data[data.columns[-1]] == 'nonad.'\n",
    "data.loc[ad_indeces,data.columns[-1]] = 1\n",
    "data.loc[non_ad_indeces, data.columns[-1]] = 0\n",
    "data[data.columns[-1]] = data[data.columns[-1]].astype(float)\n",
    "data.apply(lambda x: pd.to_numeric(x))\n",
    "\n",
    "data.head"
   ]
  },
  {
   "cell_type": "code",
   "execution_count": 50,
   "metadata": {},
   "outputs": [],
   "source": [
    "from sklearn.cross_validation import train_test_split\n",
    "X = np.array(data.values[:,:-1])\n",
    "y = np.array(data.values[:,-1])\n",
    "X_train,X_test,y_train,y_test =  train_test_split(X, y, random_state=0)"
   ]
  },
  {
   "cell_type": "code",
   "execution_count": 53,
   "metadata": {},
   "outputs": [
    {
     "name": "stdout",
     "output_type": "stream",
     "text": [
      "score:  0.9658536585365853\n"
     ]
    }
   ],
   "source": [
    "from sklearn.svm import SVC\n",
    "\n",
    "model = SVC(gamma=0.001, C= 100.)\n",
    "model.fit(X_train, y_train.astype(int))\n",
    "score = model.score(X_test, y_test.astype(int))\n",
    "\n",
    "print(\"score: \",score)"
   ]
  }
 ],
 "metadata": {
  "kernelspec": {
   "display_name": "Python 3",
   "language": "python",
   "name": "python3"
  },
  "language_info": {
   "codemirror_mode": {
    "name": "ipython",
    "version": 3
   },
   "file_extension": ".py",
   "mimetype": "text/x-python",
   "name": "python",
   "nbconvert_exporter": "python",
   "pygments_lexer": "ipython3",
   "version": "3.6.5"
  }
 },
 "nbformat": 4,
 "nbformat_minor": 2
}
