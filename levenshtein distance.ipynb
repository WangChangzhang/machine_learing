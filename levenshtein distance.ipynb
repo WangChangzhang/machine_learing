{
 "cells": [
  {
   "cell_type": "code",
   "execution_count": 30,
   "metadata": {},
   "outputs": [
    {
     "name": "stdout",
     "output_type": "stream",
     "text": [
      "4\n"
     ]
    }
   ],
   "source": [
    "def find_min(a,b,c):\n",
    "    return min(a, min(b,c))\n",
    "def levenshtein(str1, str2):\n",
    "    if str1 is None or len(str1) == 0:\n",
    "        return len(str2)\n",
    "    if str2 is None or len(str2) == 0:\n",
    "        return len(str1)\n",
    "    distance = [[0]*(len(str2)+1) for i in range(len(str1) + 1)]\n",
    "    for i in range(len(str1)+1):\n",
    "        distance[i][0] = i\n",
    "    for i in range(len(str2)+1):\n",
    "        distance[0][i] = i\n",
    "    ''' 计算编辑距离 在删除,插入,替换中取最小值,累加'''\n",
    "    \n",
    "    for i in range(1,len(str1)+1):\n",
    "        for j in range(1, len(str2)+1):\n",
    "            if str1[i-1] == str2[j-1]:\n",
    "                distance[i][j] = distance[i-1][j-1] \n",
    "            else:\n",
    "                #                         删除              插入             替换\n",
    "                distance[i][j] = find_min(distance[i-1][j],distance[i][j-1],distance[i-1][j-1]) + 1\n",
    "    return distance[len(str1)][len(str2)]\n",
    "d = levenshtein('abc',\n",
    "               'edfg')\n",
    "print(d)"
   ]
  }
 ],
 "metadata": {
  "kernelspec": {
   "display_name": "Python 3",
   "language": "python",
   "name": "python3"
  },
  "language_info": {
   "codemirror_mode": {
    "name": "ipython",
    "version": 3
   },
   "file_extension": ".py",
   "mimetype": "text/x-python",
   "name": "python",
   "nbconvert_exporter": "python",
   "pygments_lexer": "ipython3",
   "version": "3.6.5"
  }
 },
 "nbformat": 4,
 "nbformat_minor": 2
}
