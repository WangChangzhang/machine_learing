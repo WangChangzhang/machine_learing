{
 "cells": [
  {
   "cell_type": "code",
   "execution_count": 1,
   "metadata": {},
   "outputs": [],
   "source": [
    "from scipy.stats import f_oneway"
   ]
  },
  {
   "cell_type": "code",
   "execution_count": 3,
   "metadata": {},
   "outputs": [
    {
     "name": "stdout",
     "output_type": "stream",
     "text": [
      "0.0064516129032258064\n",
      "0.9935714505077389\n"
     ]
    }
   ],
   "source": [
    "# 单因素方差分析\n",
    "\n",
    "beijing =  [10,9,9,9,8,6,6]\n",
    "shanghai = [10,9,9,8,8,6,6]\n",
    "langfang = [8,8,17,7,6,5,5]\n",
    "\n",
    "f,p = f_oneway(beijing, shanghai, langfang)\n",
    "print(f)\n",
    "print(p)"
   ]
  },
  {
   "cell_type": "code",
   "execution_count": 4,
   "metadata": {},
   "outputs": [],
   "source": [
    "import pandas as pd\n",
    "import numpy as np\n",
    "from statsmodels.formula.api import ols\n",
    "from statsmodels.stats.anova import anova_lm"
   ]
  },
  {
   "cell_type": "code",
   "execution_count": 5,
   "metadata": {},
   "outputs": [],
   "source": [
    "env = [5,4,3,2,1,5,4,3,2,1,5,4,3,2,1]\n",
    "fod = [3,4,5,1,2,5,4,3,2,1,3,4,5,2,1]\n",
    "sco = [4,4,4,2,1,5,4,3,2,1,4,4,3,2,1]\n",
    "\n",
    "source = {\"A\":env, \"B\":fod, \"C\":sco}\n",
    "data = pd.DataFrame(source)"
   ]
  },
  {
   "cell_type": "code",
   "execution_count": 8,
   "metadata": {},
   "outputs": [
    {
     "data": {
      "text/html": [
       "<div>\n",
       "<style scoped>\n",
       "    .dataframe tbody tr th:only-of-type {\n",
       "        vertical-align: middle;\n",
       "    }\n",
       "\n",
       "    .dataframe tbody tr th {\n",
       "        vertical-align: top;\n",
       "    }\n",
       "\n",
       "    .dataframe thead th {\n",
       "        text-align: right;\n",
       "    }\n",
       "</style>\n",
       "<table border=\"1\" class=\"dataframe\">\n",
       "  <thead>\n",
       "    <tr style=\"text-align: right;\">\n",
       "      <th></th>\n",
       "      <th>df</th>\n",
       "      <th>sum_sq</th>\n",
       "      <th>mean_sq</th>\n",
       "      <th>F</th>\n",
       "      <th>PR(&gt;F)</th>\n",
       "    </tr>\n",
       "  </thead>\n",
       "  <tbody>\n",
       "    <tr>\n",
       "      <th>A</th>\n",
       "      <td>1.0</td>\n",
       "      <td>22.533333</td>\n",
       "      <td>22.533333</td>\n",
       "      <td>287.420018</td>\n",
       "      <td>3.121603e-09</td>\n",
       "    </tr>\n",
       "    <tr>\n",
       "      <th>B</th>\n",
       "      <td>1.0</td>\n",
       "      <td>1.505882</td>\n",
       "      <td>1.505882</td>\n",
       "      <td>19.208021</td>\n",
       "      <td>1.094197e-03</td>\n",
       "    </tr>\n",
       "    <tr>\n",
       "      <th>A:B</th>\n",
       "      <td>1.0</td>\n",
       "      <td>0.031733</td>\n",
       "      <td>0.031733</td>\n",
       "      <td>0.404762</td>\n",
       "      <td>5.376527e-01</td>\n",
       "    </tr>\n",
       "    <tr>\n",
       "      <th>Residual</th>\n",
       "      <td>11.0</td>\n",
       "      <td>0.862385</td>\n",
       "      <td>0.078399</td>\n",
       "      <td>NaN</td>\n",
       "      <td>NaN</td>\n",
       "    </tr>\n",
       "  </tbody>\n",
       "</table>\n",
       "</div>"
      ],
      "text/plain": [
       "            df     sum_sq    mean_sq           F        PR(>F)\n",
       "A          1.0  22.533333  22.533333  287.420018  3.121603e-09\n",
       "B          1.0   1.505882   1.505882   19.208021  1.094197e-03\n",
       "A:B        1.0   0.031733   0.031733    0.404762  5.376527e-01\n",
       "Residual  11.0   0.862385   0.078399         NaN           NaN"
      ]
     },
     "execution_count": 8,
     "metadata": {},
     "output_type": "execute_result"
    }
   ],
   "source": [
    "model = ols('C~A + B + A:B',data).fit()\n",
    "res = anova_lm(model)\n",
    "res"
   ]
  }
 ],
 "metadata": {
  "kernelspec": {
   "display_name": "Python 3",
   "language": "python",
   "name": "python3"
  },
  "language_info": {
   "codemirror_mode": {
    "name": "ipython",
    "version": 3
   },
   "file_extension": ".py",
   "mimetype": "text/x-python",
   "name": "python",
   "nbconvert_exporter": "python",
   "pygments_lexer": "ipython3",
   "version": "3.7.1"
  }
 },
 "nbformat": 4,
 "nbformat_minor": 2
}
