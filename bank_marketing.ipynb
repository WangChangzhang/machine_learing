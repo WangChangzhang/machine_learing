{
 "cells": [
  {
   "cell_type": "code",
   "execution_count": 17,
   "metadata": {},
   "outputs": [],
   "source": [
    "import pandas as pd\n",
    "import numpy as np\n",
    "import mglearn"
   ]
  },
  {
   "cell_type": "code",
   "execution_count": 87,
   "metadata": {},
   "outputs": [
    {
     "name": "stdout",
     "output_type": "stream",
     "text": [
      "       age  job  marital  education  default  balance  housing  loan  contact  \\\n",
      "24060   33    4        1          2        1      882        1     1        0   \n",
      "24062   42    4        3          1        1     -247        0     0        0   \n",
      "24064   33    9        1          1        1     3444        0     1        0   \n",
      "24072   36    7        1          2        1     2415        0     1        0   \n",
      "24077   36    7        1          2        1        0        0     1        0   \n",
      "\n",
      "       day  month  duration  campaign  pdays  previous  poutcome  y  \n",
      "24060   21     10        39         1    151         3         1  1  \n",
      "24062   21     10       519         1    166         1         2  0  \n",
      "24064   21     10       144         1     91         4         1  0  \n",
      "24072   22     10        73         1     86         4         2  1  \n",
      "24077   23     10       140         1    143         3         1  0  \n"
     ]
    }
   ],
   "source": [
    "str_key = ['job','marital','education','default','housing','loan','contact','y','poutcome','month']\n",
    "o_data = pd.read_csv('data/bank-full.csv',';')\n",
    "for col in o_data:\n",
    "    o_data = o_data[~o_data[col].isin(['unknown'])]\n",
    "meta_value = {}\n",
    "for key in str_key:\n",
    "    metadata = set(o_data[key])\n",
    "    metadata_tuple = {}\n",
    "    start_index = 0\n",
    "    if len(metadata) > 2:\n",
    "        start_index = 1\n",
    "    for meta in metadata:\n",
    "        metadata_tuple[meta] = start_index\n",
    "        start_index = start_index + 1\n",
    "    meta_value[key] = metadata_tuple\n",
    "for key in meta_value:\n",
    "    temp = meta_value[key].items()\n",
    "    for name,value in temp:\n",
    "        o_data.loc[o_data[key] == name, key] = value\n"
   ]
  }
 ],
 "metadata": {
  "kernelspec": {
   "display_name": "Python 3",
   "language": "python",
   "name": "python3"
  },
  "language_info": {
   "codemirror_mode": {
    "name": "ipython",
    "version": 3
   },
   "file_extension": ".py",
   "mimetype": "text/x-python",
   "name": "python",
   "nbconvert_exporter": "python",
   "pygments_lexer": "ipython3",
   "version": "3.6.5"
  }
 },
 "nbformat": 4,
 "nbformat_minor": 2
}
