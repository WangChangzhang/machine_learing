{
 "cells": [
  {
   "cell_type": "code",
   "execution_count": 2,
   "metadata": {},
   "outputs": [],
   "source": [
    "import pandas as pd\n",
    "import numpy as np\n",
    "import mglearn"
   ]
  },
  {
   "cell_type": "code",
   "execution_count": 4,
   "metadata": {},
   "outputs": [],
   "source": [
    "# 值转换为枚举的列\n",
    "str_key = ['job','marital','education','default','housing','loan','contact','y','poutcome','month']\n",
    "# 读取数据\n",
    "o_data = pd.read_csv('data/bank-full.csv',';')\n",
    "for col in o_data:\n",
    "#     剔除无效列\n",
    "    o_data = o_data[~o_data[col].isin(['unknown'])]\n",
    "meta_value = {}\n",
    "for key in str_key:\n",
    "    metadata = set(o_data[key])\n",
    "    metadata_tuple = {}\n",
    "    start_index = 0\n",
    "    if len(metadata) > 2:\n",
    "        start_index = 1\n",
    "    for meta in metadata:\n",
    "        metadata_tuple[meta] = start_index\n",
    "        start_index = start_index + 1\n",
    "    meta_value[key] = metadata_tuple\n",
    "# 数据转为枚举\n",
    "for key in meta_value:\n",
    "    temp = meta_value[key].items()\n",
    "    for name,value in temp:\n",
    "        o_data.loc[o_data[key] == name, key] = value\n",
    "# 数据标准化 转换为高斯分布\n",
    "from sklearn import preprocessing\n",
    "std_data = preprocessing.StandardScaler().fit(o_data)\n",
    "o_data = std_data.transform(o_data)\n",
    "# 数据向上,向下的转换\n",
    "# 训练模型\n"
   ]
  }
 ],
 "metadata": {
  "kernelspec": {
   "display_name": "Python 3",
   "language": "python",
   "name": "python3"
  },
  "language_info": {
   "codemirror_mode": {
    "name": "ipython",
    "version": 3
   },
   "file_extension": ".py",
   "mimetype": "text/x-python",
   "name": "python",
   "nbconvert_exporter": "python",
   "pygments_lexer": "ipython3",
   "version": "3.6.5"
  }
 },
 "nbformat": 4,
 "nbformat_minor": 2
}
