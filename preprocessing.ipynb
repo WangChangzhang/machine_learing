{
 "cells": [
  {
   "cell_type": "code",
   "execution_count": 24,
   "metadata": {},
   "outputs": [
    {
     "name": "stdout",
     "output_type": "stream",
     "text": [
      "[[661 189 810 515 585]\n",
      " [452 370 769 523 167]\n",
      " [306 337 826 664 402]\n",
      " [948 352 821 234 949]\n",
      " [943 714 637 530 828]]\n",
      "[[-0.00388313 -1.17432575  0.52898782  0.15486736 -0.00424396]\n",
      " [-0.81545681 -0.12932594 -0.05091861  0.21169942 -1.4825577 ]\n",
      " [-1.38239345 -0.31985077  0.75529277  1.21336445 -0.6514483 ]\n",
      " [ 1.11057452 -0.23324858  0.68457247 -1.8413587   1.28309145]\n",
      " [ 1.09115888  1.85675104 -1.91793445  0.26142747  0.85515852]]\n"
     ]
    },
    {
     "name": "stderr",
     "output_type": "stream",
     "text": [
      "d:\\anaconda3\\lib\\site-packages\\sklearn\\utils\\validation.py:475: DataConversionWarning: Data with input dtype int32 was converted to float64 by the scale function.\n",
      "  warnings.warn(msg, DataConversionWarning)\n"
     ]
    }
   ],
   "source": [
    "import numpy as np\n",
    "import pandas as pd\n",
    "from sklearn import preprocessing\n",
    "\n",
    "x = np.random.randint(1000,size=(5,5))\n",
    "print(x)\n",
    "x_scale = preprocessing.scale(x)\n",
    "print(x_scale)"
   ]
  },
  {
   "cell_type": "code",
   "execution_count": 35,
   "metadata": {},
   "outputs": [
    {
     "name": "stdout",
     "output_type": "stream",
     "text": [
      "[[409 668 127 969 242]\n",
      " [502 769 173 257 566]\n",
      " [376 402 162 765 233]\n",
      " [551 891 590 321 519]\n",
      " [768 180 118 881 268]]\n"
     ]
    },
    {
     "name": "stderr",
     "output_type": "stream",
     "text": [
      "d:\\anaconda3\\lib\\site-packages\\sklearn\\utils\\validation.py:475: DataConversionWarning: Data with input dtype int32 was converted to float64 by StandardScaler.\n",
      "  warnings.warn(msg, DataConversionWarning)\n"
     ]
    },
    {
     "data": {
      "text/plain": [
       "array([[-0.81041445,  0.33382015, -0.5971302 ,  1.12614773, -0.84857933],\n",
       "       [-0.13868055,  0.72586474, -0.34042002, -1.30065973,  1.37585192],\n",
       "       [-1.04877164, -0.69869333, -0.40180724,  0.43082649, -0.91036909],\n",
       "       [ 0.21524377,  1.19942355,  1.98671356, -1.08251974,  1.05317208],\n",
       "       [ 1.78262287, -1.5604151 , -0.6473561 ,  0.82620524, -0.67007559]])"
      ]
     },
     "execution_count": 35,
     "metadata": {},
     "output_type": "execute_result"
    }
   ],
   "source": [
    "x_1 = np.random.randint(1000, size=(5,5))\n",
    "print(x_1)\n",
    "stand_scale = preprocessing.StandardScaler().fit(x_1)\n",
    "stand_scale.transform(x_1)"
   ]
  },
  {
   "cell_type": "code",
   "execution_count": 45,
   "metadata": {},
   "outputs": [
    {
     "name": "stderr",
     "output_type": "stream",
     "text": [
      "d:\\anaconda3\\lib\\site-packages\\sklearn\\utils\\validation.py:475: DataConversionWarning: Data with input dtype int32 was converted to float64 by MinMaxScaler.\n",
      "  warnings.warn(msg, DataConversionWarning)\n"
     ]
    },
    {
     "data": {
      "text/plain": [
       "array([[0., 0., 0.],\n",
       "       [0., 1., 1.]])"
      ]
     },
     "execution_count": 45,
     "metadata": {},
     "output_type": "execute_result"
    }
   ],
   "source": [
    "x_2 = np.array([[1,100,-100],\n",
    "              [1,200,300]])\n",
    "minmax = preprocessing.MinMaxScaler()\n",
    "minmax.fit_transform(x_2)"
   ]
  },
  {
   "cell_type": "code",
   "execution_count": 50,
   "metadata": {},
   "outputs": [
    {
     "name": "stdout",
     "output_type": "stream",
     "text": [
      "[[ 1.          0.5        -0.33333333]\n",
      " [ 1.          1.          1.        ]]\n"
     ]
    }
   ],
   "source": [
    "x_3 = np.array([[1,100,-100],\n",
    "              [1,200,300]])\n",
    "maxabs = preprocessing.MaxAbsScaler()\n",
    "x_3 = maxabs.fit_transform(x_3)\n",
    "print(x_3)"
   ]
  },
  {
   "cell_type": "code",
   "execution_count": 52,
   "metadata": {},
   "outputs": [
    {
     "data": {
      "text/plain": [
       "array([[ 0.00707089,  0.7070891 , -0.7070891 ],\n",
       "       [ 0.00277349,  0.55469806,  0.83204709]])"
      ]
     },
     "execution_count": 52,
     "metadata": {},
     "output_type": "execute_result"
    }
   ],
   "source": [
    "x_4 = np.array([[1,100,-100],\n",
    "              [1,200,300]])\n",
    "normal = preprocessing.Normalizer().fit(x_4)\n",
    "normal.transform(x_4)"
   ]
  },
  {
   "cell_type": "code",
   "execution_count": 55,
   "metadata": {},
   "outputs": [
    {
     "data": {
      "text/plain": [
       "array([[0, 0, 0],\n",
       "       [0, 1, 1]])"
      ]
     },
     "execution_count": 55,
     "metadata": {},
     "output_type": "execute_result"
    }
   ],
   "source": [
    "binarizer = preprocessing.Binarizer(threshold= 100).fit(x_4)\n",
    "binarizer.transform(x_4)"
   ]
  },
  {
   "cell_type": "code",
   "execution_count": 72,
   "metadata": {},
   "outputs": [
    {
     "name": "stdout",
     "output_type": "stream",
     "text": [
      "[[0. 1. 1. 0. 0. 0. 1.]]\n"
     ]
    }
   ],
   "source": [
    "x_5 = np.array([[1,2,3],\n",
    "           [0,2,4],\n",
    "           [1,3,5]])\n",
    "onehot = preprocessing.OneHotEncoder().fit(x_5)\n",
    "x_6 = np.array([[1,2,5]])\n",
    "# 01 10 001\n",
    "x_6 = onehot.transform(x_6).toarray()\n",
    "print(x_6)"
   ]
  },
  {
   "cell_type": "code",
   "execution_count": 81,
   "metadata": {},
   "outputs": [
    {
     "data": {
      "text/plain": [
       "array([[1., 4.]])"
      ]
     },
     "execution_count": 81,
     "metadata": {},
     "output_type": "execute_result"
    }
   ],
   "source": [
    "imputer = preprocessing.Imputer(strategy='mean',missing_values='NaN', axis=0).fit([[1,2],\n",
    "                                      [1,4],\n",
    "                                       [1,6]])\n",
    "imputer.transform([[np.nan,np.nan]])\n"
   ]
  },
  {
   "cell_type": "code",
   "execution_count": 84,
   "metadata": {},
   "outputs": [
    {
     "name": "stdout",
     "output_type": "stream",
     "text": [
      "[[ 1.  0.  1.  2.  0.  0.  0.  1.  2.  4.]\n",
      " [ 1.  3.  4.  5.  9. 12. 15. 16. 20. 25.]\n",
      " [ 1.  6.  7.  8. 36. 42. 48. 49. 56. 64.]]\n"
     ]
    }
   ],
   "source": [
    "x7 = np.arange(9).reshape(3,3)\n",
    "ploy = preprocessing.PolynomialFeatures(2)\n",
    "x_7_ploy = ploy.fit_transform(x7)\n",
    "print(x_7_ploy)"
   ]
  },
  {
   "cell_type": "code",
   "execution_count": 88,
   "metadata": {},
   "outputs": [
    {
     "name": "stdout",
     "output_type": "stream",
     "text": [
      "[[0 1 2]\n",
      " [3 4 5]\n",
      " [6 7 8]]\n"
     ]
    },
    {
     "name": "stderr",
     "output_type": "stream",
     "text": [
      "d:\\anaconda3\\lib\\site-packages\\sklearn\\preprocessing\\_function_transformer.py:161: RuntimeWarning: divide by zero encountered in log10\n",
      "  **(kw_args if kw_args else {}))\n"
     ]
    },
    {
     "data": {
      "text/plain": [
       "array([[      -inf, 0.        , 0.30103   ],\n",
       "       [0.47712125, 0.60205999, 0.69897   ],\n",
       "       [0.77815125, 0.84509804, 0.90308999]])"
      ]
     },
     "execution_count": 88,
     "metadata": {},
     "output_type": "execute_result"
    }
   ],
   "source": [
    "func = preprocessing.FunctionTransformer(np.log10)\n",
    "print(x7)\n",
    "func.transform(x7)"
   ]
  }
 ],
 "metadata": {
  "kernelspec": {
   "display_name": "Python 3",
   "language": "python",
   "name": "python3"
  },
  "language_info": {
   "codemirror_mode": {
    "name": "ipython",
    "version": 3
   },
   "file_extension": ".py",
   "mimetype": "text/x-python",
   "name": "python",
   "nbconvert_exporter": "python",
   "pygments_lexer": "ipython3",
   "version": "3.6.5"
  }
 },
 "nbformat": 4,
 "nbformat_minor": 2
}
