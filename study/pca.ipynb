{
 "cells": [
  {
   "cell_type": "code",
   "execution_count": 27,
   "metadata": {},
   "outputs": [],
   "source": [
    "import numpy as np\n",
    "import matplotlib.pyplot as plt\n",
    "%matplotlib inline\n",
    "\n",
    "x = np.arange(1,101,1).astype(float)\n",
    "y = 2*x\n",
    "noise = np.random.normal(0,10, 100)\n",
    "y += noise\n",
    "\n",
    "# 数据处理\n",
    "meanx = np.mean(x)\n",
    "meany = np.mean(y)\n",
    "u_x = (x-meanx)/ np.std(x)\n",
    "u_y = (y-meany)/ np.std(y)\n",
    "# 协方差\n",
    "# sigma = np.cov([u_x,u_y])\n",
    "# valus,vectors = np.linalg.eig(sigma)\n",
    "# eig_pairs = [(np.abs(valus[i]), vectors[:,i]) for i in range(len(valus))]\n"
   ]
  },
  {
   "cell_type": "code",
   "execution_count": 42,
   "metadata": {},
   "outputs": [
    {
     "name": "stdout",
     "output_type": "stream",
     "text": [
      "2.0024588098069422\n"
     ]
    }
   ],
   "source": [
    "from sklearn.decomposition import PCA\n",
    "X = np.array([u_x,u_y])\n",
    "X = X.T\n",
    "pca = PCA(n_components=1)\n",
    "pca.fit(X)\n",
    "v1 = pca.components_[0]\n",
    "pca.fit_transform(X)\n",
    "\n",
    "x_v1 = v1[0]*np.std(x)+meanx\n",
    "y_v1 = v1[1]*np.std(y)+meany\n",
    "\n",
    "print((y_v1)/(x_v1))"
   ]
  },
  {
   "cell_type": "code",
   "execution_count": 41,
   "metadata": {},
   "outputs": [
    {
     "data": {
      "text/plain": [
       "28.86607004772212"
      ]
     },
     "execution_count": 41,
     "metadata": {},
     "output_type": "execute_result"
    }
   ],
   "source": []
  }
 ],
 "metadata": {
  "kernelspec": {
   "display_name": "Python 3",
   "language": "python",
   "name": "python3"
  },
  "language_info": {
   "codemirror_mode": {
    "name": "ipython",
    "version": 3
   },
   "file_extension": ".py",
   "mimetype": "text/x-python",
   "name": "python",
   "nbconvert_exporter": "python",
   "pygments_lexer": "ipython3",
   "version": "3.7.1"
  }
 },
 "nbformat": 4,
 "nbformat_minor": 2
}
